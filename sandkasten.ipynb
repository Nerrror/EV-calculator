{
 "cells": [
  {
   "cell_type": "code",
   "execution_count": 20,
   "metadata": {},
   "outputs": [],
   "source": [
    "import dash\n",
    "from dash import html, dcc, callback\n",
    "import dash_daq as daq\n",
    "from dash.dependencies import Input, Output\n",
    "import plotly.graph_objs as go\n",
    "import pandas as pd\n",
    "import numpy as np"
   ]
  },
  {
   "cell_type": "code",
   "execution_count": 14,
   "metadata": {},
   "outputs": [],
   "source": [
    "ev_base_price = 35000  # Example price in euros\n",
    "cv_base_price = 30000\n",
    "\n",
    "ev_maintenance_cost_per_km = 0.05  # €/km\n",
    "cv_maintenance_cost_per_km = 0.08\n",
    "\n",
    "ev_depreciation_rate = 0.15  # 15% per year\n",
    "cv_depreciation_rate = 0.20\n"
   ]
  },
  {
   "cell_type": "code",
   "execution_count": 15,
   "metadata": {},
   "outputs": [
    {
     "data": {
      "text/plain": [
       "0.009375"
      ]
     },
     "execution_count": 15,
     "metadata": {},
     "output_type": "execute_result"
    }
   ],
   "source": [
    "(0.32-0.17) /(2024-2008) "
   ]
  },
  {
   "cell_type": "code",
   "execution_count": 16,
   "metadata": {},
   "outputs": [
    {
     "name": "stdout",
     "output_type": "stream",
     "text": [
      "0.01\n"
     ]
    },
    {
     "data": {
      "application/vnd.plotly.v1+json": {
       "config": {
        "plotlyServerURL": "https://plot.ly"
       },
       "data": [
        {
         "line": {
          "width": 2
         },
         "marker": {
          "size": 8
         },
         "mode": "lines+markers",
         "name": "Electricity Price (Simulated)",
         "type": "scatter",
         "x": [
          2008,
          2009,
          2010,
          2011,
          2012,
          2013,
          2014,
          2015,
          2016,
          2017,
          2018,
          2019,
          2020,
          2021,
          2022,
          2023
         ],
         "y": [
          0.17,
          0.17170000000000002,
          0.17341700000000002,
          0.17515117000000002,
          0.1769026817,
          0.17867170851700004,
          0.18045842560217004,
          0.18226300985819172,
          0.18408563995677366,
          0.18592649635634137,
          0.1877857613199048,
          0.18966361893310382,
          0.19156025512243488,
          0.19347585767365924,
          0.19541061625039585,
          0.1973647224128998
         ]
        }
       ],
       "layout": {
        "hovermode": "x unified",
        "template": {
         "data": {
          "bar": [
           {
            "error_x": {
             "color": "#2a3f5f"
            },
            "error_y": {
             "color": "#2a3f5f"
            },
            "marker": {
             "line": {
              "color": "white",
              "width": 0.5
             },
             "pattern": {
              "fillmode": "overlay",
              "size": 10,
              "solidity": 0.2
             }
            },
            "type": "bar"
           }
          ],
          "barpolar": [
           {
            "marker": {
             "line": {
              "color": "white",
              "width": 0.5
             },
             "pattern": {
              "fillmode": "overlay",
              "size": 10,
              "solidity": 0.2
             }
            },
            "type": "barpolar"
           }
          ],
          "carpet": [
           {
            "aaxis": {
             "endlinecolor": "#2a3f5f",
             "gridcolor": "#C8D4E3",
             "linecolor": "#C8D4E3",
             "minorgridcolor": "#C8D4E3",
             "startlinecolor": "#2a3f5f"
            },
            "baxis": {
             "endlinecolor": "#2a3f5f",
             "gridcolor": "#C8D4E3",
             "linecolor": "#C8D4E3",
             "minorgridcolor": "#C8D4E3",
             "startlinecolor": "#2a3f5f"
            },
            "type": "carpet"
           }
          ],
          "choropleth": [
           {
            "colorbar": {
             "outlinewidth": 0,
             "ticks": ""
            },
            "type": "choropleth"
           }
          ],
          "contour": [
           {
            "colorbar": {
             "outlinewidth": 0,
             "ticks": ""
            },
            "colorscale": [
             [
              0,
              "#0d0887"
             ],
             [
              0.1111111111111111,
              "#46039f"
             ],
             [
              0.2222222222222222,
              "#7201a8"
             ],
             [
              0.3333333333333333,
              "#9c179e"
             ],
             [
              0.4444444444444444,
              "#bd3786"
             ],
             [
              0.5555555555555556,
              "#d8576b"
             ],
             [
              0.6666666666666666,
              "#ed7953"
             ],
             [
              0.7777777777777778,
              "#fb9f3a"
             ],
             [
              0.8888888888888888,
              "#fdca26"
             ],
             [
              1,
              "#f0f921"
             ]
            ],
            "type": "contour"
           }
          ],
          "contourcarpet": [
           {
            "colorbar": {
             "outlinewidth": 0,
             "ticks": ""
            },
            "type": "contourcarpet"
           }
          ],
          "heatmap": [
           {
            "colorbar": {
             "outlinewidth": 0,
             "ticks": ""
            },
            "colorscale": [
             [
              0,
              "#0d0887"
             ],
             [
              0.1111111111111111,
              "#46039f"
             ],
             [
              0.2222222222222222,
              "#7201a8"
             ],
             [
              0.3333333333333333,
              "#9c179e"
             ],
             [
              0.4444444444444444,
              "#bd3786"
             ],
             [
              0.5555555555555556,
              "#d8576b"
             ],
             [
              0.6666666666666666,
              "#ed7953"
             ],
             [
              0.7777777777777778,
              "#fb9f3a"
             ],
             [
              0.8888888888888888,
              "#fdca26"
             ],
             [
              1,
              "#f0f921"
             ]
            ],
            "type": "heatmap"
           }
          ],
          "heatmapgl": [
           {
            "colorbar": {
             "outlinewidth": 0,
             "ticks": ""
            },
            "colorscale": [
             [
              0,
              "#0d0887"
             ],
             [
              0.1111111111111111,
              "#46039f"
             ],
             [
              0.2222222222222222,
              "#7201a8"
             ],
             [
              0.3333333333333333,
              "#9c179e"
             ],
             [
              0.4444444444444444,
              "#bd3786"
             ],
             [
              0.5555555555555556,
              "#d8576b"
             ],
             [
              0.6666666666666666,
              "#ed7953"
             ],
             [
              0.7777777777777778,
              "#fb9f3a"
             ],
             [
              0.8888888888888888,
              "#fdca26"
             ],
             [
              1,
              "#f0f921"
             ]
            ],
            "type": "heatmapgl"
           }
          ],
          "histogram": [
           {
            "marker": {
             "pattern": {
              "fillmode": "overlay",
              "size": 10,
              "solidity": 0.2
             }
            },
            "type": "histogram"
           }
          ],
          "histogram2d": [
           {
            "colorbar": {
             "outlinewidth": 0,
             "ticks": ""
            },
            "colorscale": [
             [
              0,
              "#0d0887"
             ],
             [
              0.1111111111111111,
              "#46039f"
             ],
             [
              0.2222222222222222,
              "#7201a8"
             ],
             [
              0.3333333333333333,
              "#9c179e"
             ],
             [
              0.4444444444444444,
              "#bd3786"
             ],
             [
              0.5555555555555556,
              "#d8576b"
             ],
             [
              0.6666666666666666,
              "#ed7953"
             ],
             [
              0.7777777777777778,
              "#fb9f3a"
             ],
             [
              0.8888888888888888,
              "#fdca26"
             ],
             [
              1,
              "#f0f921"
             ]
            ],
            "type": "histogram2d"
           }
          ],
          "histogram2dcontour": [
           {
            "colorbar": {
             "outlinewidth": 0,
             "ticks": ""
            },
            "colorscale": [
             [
              0,
              "#0d0887"
             ],
             [
              0.1111111111111111,
              "#46039f"
             ],
             [
              0.2222222222222222,
              "#7201a8"
             ],
             [
              0.3333333333333333,
              "#9c179e"
             ],
             [
              0.4444444444444444,
              "#bd3786"
             ],
             [
              0.5555555555555556,
              "#d8576b"
             ],
             [
              0.6666666666666666,
              "#ed7953"
             ],
             [
              0.7777777777777778,
              "#fb9f3a"
             ],
             [
              0.8888888888888888,
              "#fdca26"
             ],
             [
              1,
              "#f0f921"
             ]
            ],
            "type": "histogram2dcontour"
           }
          ],
          "mesh3d": [
           {
            "colorbar": {
             "outlinewidth": 0,
             "ticks": ""
            },
            "type": "mesh3d"
           }
          ],
          "parcoords": [
           {
            "line": {
             "colorbar": {
              "outlinewidth": 0,
              "ticks": ""
             }
            },
            "type": "parcoords"
           }
          ],
          "pie": [
           {
            "automargin": true,
            "type": "pie"
           }
          ],
          "scatter": [
           {
            "fillpattern": {
             "fillmode": "overlay",
             "size": 10,
             "solidity": 0.2
            },
            "type": "scatter"
           }
          ],
          "scatter3d": [
           {
            "line": {
             "colorbar": {
              "outlinewidth": 0,
              "ticks": ""
             }
            },
            "marker": {
             "colorbar": {
              "outlinewidth": 0,
              "ticks": ""
             }
            },
            "type": "scatter3d"
           }
          ],
          "scattercarpet": [
           {
            "marker": {
             "colorbar": {
              "outlinewidth": 0,
              "ticks": ""
             }
            },
            "type": "scattercarpet"
           }
          ],
          "scattergeo": [
           {
            "marker": {
             "colorbar": {
              "outlinewidth": 0,
              "ticks": ""
             }
            },
            "type": "scattergeo"
           }
          ],
          "scattergl": [
           {
            "marker": {
             "colorbar": {
              "outlinewidth": 0,
              "ticks": ""
             }
            },
            "type": "scattergl"
           }
          ],
          "scattermapbox": [
           {
            "marker": {
             "colorbar": {
              "outlinewidth": 0,
              "ticks": ""
             }
            },
            "type": "scattermapbox"
           }
          ],
          "scatterpolar": [
           {
            "marker": {
             "colorbar": {
              "outlinewidth": 0,
              "ticks": ""
             }
            },
            "type": "scatterpolar"
           }
          ],
          "scatterpolargl": [
           {
            "marker": {
             "colorbar": {
              "outlinewidth": 0,
              "ticks": ""
             }
            },
            "type": "scatterpolargl"
           }
          ],
          "scatterternary": [
           {
            "marker": {
             "colorbar": {
              "outlinewidth": 0,
              "ticks": ""
             }
            },
            "type": "scatterternary"
           }
          ],
          "surface": [
           {
            "colorbar": {
             "outlinewidth": 0,
             "ticks": ""
            },
            "colorscale": [
             [
              0,
              "#0d0887"
             ],
             [
              0.1111111111111111,
              "#46039f"
             ],
             [
              0.2222222222222222,
              "#7201a8"
             ],
             [
              0.3333333333333333,
              "#9c179e"
             ],
             [
              0.4444444444444444,
              "#bd3786"
             ],
             [
              0.5555555555555556,
              "#d8576b"
             ],
             [
              0.6666666666666666,
              "#ed7953"
             ],
             [
              0.7777777777777778,
              "#fb9f3a"
             ],
             [
              0.8888888888888888,
              "#fdca26"
             ],
             [
              1,
              "#f0f921"
             ]
            ],
            "type": "surface"
           }
          ],
          "table": [
           {
            "cells": {
             "fill": {
              "color": "#EBF0F8"
             },
             "line": {
              "color": "white"
             }
            },
            "header": {
             "fill": {
              "color": "#C8D4E3"
             },
             "line": {
              "color": "white"
             }
            },
            "type": "table"
           }
          ]
         },
         "layout": {
          "annotationdefaults": {
           "arrowcolor": "#2a3f5f",
           "arrowhead": 0,
           "arrowwidth": 1
          },
          "autotypenumbers": "strict",
          "coloraxis": {
           "colorbar": {
            "outlinewidth": 0,
            "ticks": ""
           }
          },
          "colorscale": {
           "diverging": [
            [
             0,
             "#8e0152"
            ],
            [
             0.1,
             "#c51b7d"
            ],
            [
             0.2,
             "#de77ae"
            ],
            [
             0.3,
             "#f1b6da"
            ],
            [
             0.4,
             "#fde0ef"
            ],
            [
             0.5,
             "#f7f7f7"
            ],
            [
             0.6,
             "#e6f5d0"
            ],
            [
             0.7,
             "#b8e186"
            ],
            [
             0.8,
             "#7fbc41"
            ],
            [
             0.9,
             "#4d9221"
            ],
            [
             1,
             "#276419"
            ]
           ],
           "sequential": [
            [
             0,
             "#0d0887"
            ],
            [
             0.1111111111111111,
             "#46039f"
            ],
            [
             0.2222222222222222,
             "#7201a8"
            ],
            [
             0.3333333333333333,
             "#9c179e"
            ],
            [
             0.4444444444444444,
             "#bd3786"
            ],
            [
             0.5555555555555556,
             "#d8576b"
            ],
            [
             0.6666666666666666,
             "#ed7953"
            ],
            [
             0.7777777777777778,
             "#fb9f3a"
            ],
            [
             0.8888888888888888,
             "#fdca26"
            ],
            [
             1,
             "#f0f921"
            ]
           ],
           "sequentialminus": [
            [
             0,
             "#0d0887"
            ],
            [
             0.1111111111111111,
             "#46039f"
            ],
            [
             0.2222222222222222,
             "#7201a8"
            ],
            [
             0.3333333333333333,
             "#9c179e"
            ],
            [
             0.4444444444444444,
             "#bd3786"
            ],
            [
             0.5555555555555556,
             "#d8576b"
            ],
            [
             0.6666666666666666,
             "#ed7953"
            ],
            [
             0.7777777777777778,
             "#fb9f3a"
            ],
            [
             0.8888888888888888,
             "#fdca26"
            ],
            [
             1,
             "#f0f921"
            ]
           ]
          },
          "colorway": [
           "#636efa",
           "#EF553B",
           "#00cc96",
           "#ab63fa",
           "#FFA15A",
           "#19d3f3",
           "#FF6692",
           "#B6E880",
           "#FF97FF",
           "#FECB52"
          ],
          "font": {
           "color": "#2a3f5f"
          },
          "geo": {
           "bgcolor": "white",
           "lakecolor": "white",
           "landcolor": "white",
           "showlakes": true,
           "showland": true,
           "subunitcolor": "#C8D4E3"
          },
          "hoverlabel": {
           "align": "left"
          },
          "hovermode": "closest",
          "mapbox": {
           "style": "light"
          },
          "paper_bgcolor": "white",
          "plot_bgcolor": "white",
          "polar": {
           "angularaxis": {
            "gridcolor": "#EBF0F8",
            "linecolor": "#EBF0F8",
            "ticks": ""
           },
           "bgcolor": "white",
           "radialaxis": {
            "gridcolor": "#EBF0F8",
            "linecolor": "#EBF0F8",
            "ticks": ""
           }
          },
          "scene": {
           "xaxis": {
            "backgroundcolor": "white",
            "gridcolor": "#DFE8F3",
            "gridwidth": 2,
            "linecolor": "#EBF0F8",
            "showbackground": true,
            "ticks": "",
            "zerolinecolor": "#EBF0F8"
           },
           "yaxis": {
            "backgroundcolor": "white",
            "gridcolor": "#DFE8F3",
            "gridwidth": 2,
            "linecolor": "#EBF0F8",
            "showbackground": true,
            "ticks": "",
            "zerolinecolor": "#EBF0F8"
           },
           "zaxis": {
            "backgroundcolor": "white",
            "gridcolor": "#DFE8F3",
            "gridwidth": 2,
            "linecolor": "#EBF0F8",
            "showbackground": true,
            "ticks": "",
            "zerolinecolor": "#EBF0F8"
           }
          },
          "shapedefaults": {
           "line": {
            "color": "#2a3f5f"
           }
          },
          "ternary": {
           "aaxis": {
            "gridcolor": "#DFE8F3",
            "linecolor": "#A2B1C6",
            "ticks": ""
           },
           "baxis": {
            "gridcolor": "#DFE8F3",
            "linecolor": "#A2B1C6",
            "ticks": ""
           },
           "bgcolor": "white",
           "caxis": {
            "gridcolor": "#DFE8F3",
            "linecolor": "#A2B1C6",
            "ticks": ""
           }
          },
          "title": {
           "x": 0.05
          },
          "xaxis": {
           "automargin": true,
           "gridcolor": "#EBF0F8",
           "linecolor": "#EBF0F8",
           "ticks": "",
           "title": {
            "standoff": 15
           },
           "zerolinecolor": "#EBF0F8",
           "zerolinewidth": 2
          },
          "yaxis": {
           "automargin": true,
           "gridcolor": "#EBF0F8",
           "linecolor": "#EBF0F8",
           "ticks": "",
           "title": {
            "standoff": 15
           },
           "zerolinecolor": "#EBF0F8",
           "zerolinewidth": 2
          }
         }
        },
        "title": {
         "text": "Simulated Electricity Price Development Over the Years"
        },
        "xaxis": {
         "title": {
          "text": "Year"
         }
        },
        "yaxis": {
         "title": {
          "text": "Price (Currency/Unit)"
         }
        }
       }
      }
     },
     "metadata": {},
     "output_type": "display_data"
    }
   ],
   "source": [
    "import plotly.graph_objects as go\n",
    "import numpy as np\n",
    "\n",
    "# Parameters\n",
    "initial_price = 0.17  # Starting price in the first year\n",
    "current_price = 0.32  # Todays prive\n",
    "years = np.arange(2008, 2024)  # Years from 2010 to 2023\n",
    "annual_growth_rate = (current_price - initial_price)/(years[-1] - years[0])  # 3% annual increase\n",
    "print(annual_growth_rate)\n",
    "\n",
    "\n",
    "# Calculate price for each year based on the growth rate\n",
    "prices = [initial_price * (1 + annual_growth_rate) ** (year - years[0]) for year in years]\n",
    "\n",
    "# Create the plot\n",
    "fig = go.Figure()\n",
    "\n",
    "# Add trace for the electricity price development\n",
    "fig.add_trace(go.Scatter(\n",
    "    x=years, y=prices,\n",
    "    mode='lines+markers',\n",
    "    name='Electricity Price (Simulated)',\n",
    "    line=dict(width=2),\n",
    "    marker=dict(size=8)\n",
    "))\n",
    "\n",
    "# Update layout for customization\n",
    "fig.update_layout(\n",
    "    title=\"Simulated Electricity Price Development Over the Years\",\n",
    "    xaxis_title=\"Year\",\n",
    "    yaxis_title=\"Price (Currency/Unit)\",\n",
    "    template=\"plotly_white\",\n",
    "    hovermode=\"x unified\"\n",
    ")\n",
    "\n",
    "# Show the plot\n",
    "fig.show()"
   ]
  },
  {
   "cell_type": "code",
   "execution_count": 17,
   "metadata": {},
   "outputs": [],
   "source": [
    "def generate_electricity_prices(mean_price, std_dev, size):\n",
    "    return np.random.normal(mean_price, std_dev, size)\n",
    "\n",
    "electricity_prices = generate_electricity_prices(mean_price=0.20, std_dev=0.05, size=1000)\n"
   ]
  },
  {
   "cell_type": "code",
   "execution_count": 58,
   "metadata": {},
   "outputs": [
    {
     "data": {
      "text/html": [
       "\n",
       "        <iframe\n",
       "            width=\"100%\"\n",
       "            height=\"650\"\n",
       "            src=\"http://127.0.0.1:8050/\"\n",
       "            frameborder=\"0\"\n",
       "            allowfullscreen\n",
       "            \n",
       "        ></iframe>\n",
       "        "
      ],
      "text/plain": [
       "<IPython.lib.display.IFrame at 0x17721a001d0>"
      ]
     },
     "metadata": {},
     "output_type": "display_data"
    }
   ],
   "source": [
    "import dash\n",
    "from dash import dcc, html, Input, Output\n",
    "import dash_daq as daq\n",
    "\n",
    "external_stylesheets = ['https://codepen.io/chriddyp/pen/bWLwgP.css']\n",
    "app = dash.Dash(__name__, external_stylesheets=external_stylesheets)\n",
    "\n",
    "app.layout = html.Div([\n",
    "    html.H1(\"Vehicle Cost Comparison Tool\"),\n",
    "\n",
    "    # Shared Annual Mileage Slider\n",
    "    html.Label(\"Annual Mileage (km)\", style={'marginBottom': '40px', 'marginTop': '20px'}),\n",
    "    daq.Slider(\n",
    "        id='shared-annual-mileage',\n",
    "        min=0,\n",
    "        max=40000,\n",
    "        step=1000,\n",
    "        value=12000,\n",
    "        handleLabel={\"showCurrentValue\": True, \"label\": \"km\"},\n",
    "        marks={i: str(i) for i in range(0, 40001, 10000)}\n",
    "    ),\n",
    "\n",
    "    html.Div([\n",
    "        # Electric Vehicle Configuration\n",
    "        html.Div([\n",
    "            html.H3(\"Electric Vehicle Configuration\"),\n",
    "\n",
    "            # Price of Purchase\n",
    "            html.Label(\"Price of Purchase (€)\", style={'marginBottom': '40px', 'marginTop': '20px'}),\n",
    "            daq.Slider(\n",
    "                id='ev-price-of-purchase',\n",
    "                min=10000,\n",
    "                max=100000,\n",
    "                step=1000,\n",
    "                value=40000,\n",
    "                handleLabel={\"showCurrentValue\": True, \"label\": \"€\"},\n",
    "                marks={i: f\"{i//1000}k\" for i in range(10000, 100001, 20000)},\n",
    "            ),\n",
    "\n",
    "            # Age of the Car\n",
    "            html.Label(\"Age of the Car (years)\", style={'marginBottom': '40px', 'marginTop': '20px'}),\n",
    "            daq.Slider(\n",
    "                id='ev-car-age',\n",
    "                min=0,\n",
    "                max=20,\n",
    "                step=1,\n",
    "                value=3,\n",
    "                handleLabel={\"showCurrentValue\": True, \"label\": \"years\"},\n",
    "                marks={i: str(i) for i in range(0, 21, 5)},\n",
    "            ),\n",
    "\n",
    "            # Efficiency\n",
    "            html.Label(\"Consumption (kwh)\", style={'marginBottom': '40px', 'marginTop': '20px'}),\n",
    "            daq.Slider(\n",
    "                id='ev-consumption',\n",
    "                min=5,\n",
    "                max=30,\n",
    "                step=1,\n",
    "                value=18,\n",
    "                handleLabel={\"showCurrentValue\": True, \"label\": \"kwh\"},\n",
    "                marks={i: str(i) for i in range(0, 31, 5)},\n",
    "            ),\n",
    "\n",
    "            # Mean Electric Price Configuration\n",
    "            html.H4(\"Electric Charging Price Configuration\"),\n",
    "            html.Div([\n",
    "                html.Label(\"Define Charging Percentages (Home | AC | DC)\", style={'marginBottom': '20px'}),\n",
    "                dcc.RangeSlider(\n",
    "                    id='charging-type-range',\n",
    "                    min=0,\n",
    "                    max=100,\n",
    "                    step=1,\n",
    "                    value=[40, 70],  # Initial breakpoints\n",
    "                    marks={i: f\"{i}%\" for i in range(0, 101, 20)},\n",
    "                    pushable = True,\n",
    "                    tooltip={\"placement\": \"bottom\", \"always_visible\": True},\n",
    "                ),\n",
    "                html.Div(id='charging-type-percentages-display', style={'marginTop': '20px'}),\n",
    "                html.Div([\n",
    "                    html.Label(\"Home Charging (€/kWh)\", style={'marginRight': '10px'}),\n",
    "                    dcc.Input(id='home-charging-price', type='number', value=0.15, step=0.01, style={'width': '100px'}),\n",
    "                    html.Label(\"AC Charging (€/kWh)\", style={'marginLeft': '20px', 'marginRight': '10px'}),\n",
    "                    dcc.Input(id='ac-charging-price', type='number', value=0.25, step=0.01, style={'width': '100px'}),\n",
    "                    html.Label(\"DC Charging (€/kWh)\", style={'marginLeft': '20px', 'marginRight': '10px'}),\n",
    "                    dcc.Input(id='dc-charging-price', type='number', value=0.40, step=0.01, style={'width': '100px'}),\n",
    "                ], style={'marginBottom': '40px'}),\n",
    "            ], style={'width': '48%', 'marginBottom': '40px'}),\n",
    "        ], style={'width': '48%', 'display': 'inline-block', 'verticalAlign': 'top'}),\n",
    "\n",
    "        # Combustion Vehicle Configuration\n",
    "        html.Div([\n",
    "            html.H3(\"Combustion Vehicle Configuration\"),\n",
    "\n",
    "            # Price of Purchase\n",
    "            html.Label(\"Price of Purchase (€)\", style={'marginBottom': '40px', 'marginTop': '20px'}),\n",
    "            daq.Slider(\n",
    "                id='cv-price-of-purchase',\n",
    "                min=10000,\n",
    "                max=100000,\n",
    "                step=1000,\n",
    "                value=25000,\n",
    "                handleLabel={\"showCurrentValue\": True, \"label\": \"€\"},\n",
    "                marks={i: f\"{i//1000}k\" for i in range(10000, 100001, 20000)},\n",
    "            ),\n",
    "\n",
    "            # Age of the Car\n",
    "            html.Label(\"Age of the Car (years)\", style={'marginBottom': '40px', 'marginTop': '20px'}),\n",
    "            daq.Slider(\n",
    "                id='cv-car-age',\n",
    "                min=0,\n",
    "                max=20,\n",
    "                step=1,\n",
    "                value=5,\n",
    "                handleLabel={\"showCurrentValue\": True, \"label\": \"years\"},\n",
    "                marks={i: str(i) for i in range(0, 21, 5)},\n",
    "            ),\n",
    "\n",
    "            # Efficiency\n",
    "            html.Label(\"Consumption (l)\", style={'marginBottom': '40px', 'marginTop': '20px'}),\n",
    "            daq.Slider(\n",
    "                id='cv-consumption',\n",
    "                min=0,\n",
    "                max=20,\n",
    "                step=0.2,\n",
    "                value=6,\n",
    "                handleLabel={\"showCurrentValue\": True, \"label\": \"l\"},\n",
    "                marks={i: str(i) for i in range(0, 20, 5)},\n",
    "            ),\n",
    "            # Fuel Price Mean\n",
    "            html.Label(\"Fuel Price Mean (€/liter)\", style={'marginBottom': '40px', 'marginTop': '20px'}),\n",
    "            daq.Slider(\n",
    "                id='cv-fuel-price-mean',\n",
    "                min=1.3,\n",
    "                max=2.5,\n",
    "                step=0.1,\n",
    "                value=1.7,\n",
    "                handleLabel={\"showCurrentValue\": True, \"label\": \"€/liter\"},\n",
    "                marks={i / 20: f\"{i / 20:.1f}\" for i in range(0, 21, 5)},\n",
    "            ),\n",
    "        ], style={'width': '48%', 'display': 'inline-block', 'verticalAlign': 'top'})\n",
    "    ]),\n",
    "\n",
    "    html.Button('Calculate', id='calculate-button', n_clicks=0, style={'marginTop': '20px'}),\n",
    "\n",
    "    dcc.Graph(id='cost-comparison-graph', style={'marginTop': '20px'})\n",
    "])\n",
    "\n",
    "# Callback to dynamically calculate and display the percentages\n",
    "@app.callback(\n",
    "    Output('charging-type-percentages-display', 'children'),\n",
    "    Input('charging-type-range', 'value')\n",
    ")\n",
    "def update_charging_percentages(range_values):\n",
    "    home = range_values[0]\n",
    "    ac = range_values[1] - range_values[0]\n",
    "    dc = 100 - range_values[1]\n",
    "    return html.Div([\n",
    "        html.P(f\"Home: {home}%, AC: {ac}%, DC: {dc}%\", style={'marginTop': '10px'})\n",
    "    ])\n",
    "\n",
    "if __name__ == '__main__':\n",
    "    app.run_server(debug=True)"
   ]
  },
  {
   "cell_type": "code",
   "execution_count": 22,
   "metadata": {},
   "outputs": [],
   "source": [
    "def calculate_ev_costs(annual_mileage, years, mean_price, std_dev):\n",
    "    efficiency = 15  # kWh per 100 km\n",
    "    electricity_prices = generate_electricity_prices(mean_price, std_dev, size=len(years))\n",
    "    total_costs = []\n",
    "    residual_values = []\n",
    "    accumulated_cost = ev_base_price\n",
    "    current_value = ev_base_price\n",
    "    print(f\"anual_milage: {annual_mileage}, years: {years}, mean_price: {mean_price}\")\n",
    "\n",
    "    for i, year in enumerate(years):\n",
    "        yearly_kwh = (annual_mileage / 100) * efficiency\n",
    "        energy_cost = yearly_kwh * electricity_prices[i]\n",
    "        maintenance_cost = annual_mileage * ev_maintenance_cost_per_km\n",
    "        accumulated_cost += energy_cost + maintenance_cost\n",
    "        current_value *= (1 - ev_depreciation_rate)\n",
    "        total_costs.append(accumulated_cost)\n",
    "        residual_values.append(current_value)\n",
    "\n",
    "    return total_costs, residual_values\n",
    "\n",
    "def calculate_cv_costs(annual_mileage, years):\n",
    "    efficiency = 6  # Liters per 100 km\n",
    "    fuel_price = 1.50  # €/Liter\n",
    "    total_costs = []\n",
    "    residual_values = []\n",
    "    accumulated_cost = cv_base_price\n",
    "    current_value = cv_base_price\n",
    "\n",
    "    for year in years:\n",
    "        yearly_liters = (annual_mileage / 100) * efficiency\n",
    "        fuel_cost = yearly_liters * fuel_price\n",
    "        maintenance_cost = annual_mileage * cv_maintenance_cost_per_km\n",
    "        accumulated_cost += fuel_cost + maintenance_cost\n",
    "        current_value *= (1 - cv_depreciation_rate)\n",
    "        total_costs.append(accumulated_cost)\n",
    "        residual_values.append(current_value)\n",
    "\n",
    "    return total_costs, residual_values\n"
   ]
  },
  {
   "cell_type": "code",
   "execution_count": 23,
   "metadata": {},
   "outputs": [],
   "source": [
    "@app.callback(\n",
    "    Output('cost-comparison-graph', 'figure'),\n",
    "    Input('calculate-button', 'n_clicks'),\n",
    "    Input('vehicle-type', 'value'),\n",
    "    Input('annual-mileage', 'value'),\n",
    "    Input('ownership-period', 'value'),\n",
    "    Input('electricity-price-mean', 'value'),\n",
    "    Input('electricity-price-std', 'value')\n",
    ")\n",
    "def update_graph(n_clicks, vehicle_type, annual_mileage, ownership_period, electricity_price_mean, electricity_price_std):\n",
    "    if n_clicks > 0:\n",
    "        years = np.arange(1, ownership_period + 1)\n",
    "        if vehicle_type == 'EV':\n",
    "            total_costs, residual_values = calculate_ev_costs(\n",
    "                annual_mileage, years, electricity_price_mean, electricity_price_std)\n",
    "        else:\n",
    "            total_costs, residual_values = calculate_cv_costs(annual_mileage, years)\n",
    "\n",
    "        # Create the figure\n",
    "        fig = go.Figure()\n",
    "        fig.add_trace(go.Scatter(x=years, y=total_costs, mode='lines+markers', name='Total Cost'))\n",
    "        fig.add_trace(go.Scatter(x=years, y=residual_values, mode='lines+markers', name='Residual Value'))\n",
    "        fig.update_layout(title='Cost and Residual Value Over Time', xaxis_title='Years', yaxis_title='Amount (€)')\n",
    "        return fig\n",
    "    else:\n",
    "        return go.Figure()\n"
   ]
  },
  {
   "cell_type": "code",
   "execution_count": 36,
   "metadata": {},
   "outputs": [
    {
     "data": {
      "text/html": [
       "\n",
       "        <iframe\n",
       "            width=\"100%\"\n",
       "            height=\"650\"\n",
       "            src=\"http://127.0.0.1:8050/\"\n",
       "            frameborder=\"0\"\n",
       "            allowfullscreen\n",
       "            \n",
       "        ></iframe>\n",
       "        "
      ],
      "text/plain": [
       "<IPython.lib.display.IFrame at 0x1772223f3b0>"
      ]
     },
     "metadata": {},
     "output_type": "display_data"
    }
   ],
   "source": [
    "if __name__ == '__main__':\n",
    "    app.run_server(debug=True)\n"
   ]
  },
  {
   "cell_type": "code",
   "execution_count": null,
   "metadata": {},
   "outputs": [],
   "source": []
  }
 ],
 "metadata": {
  "kernelspec": {
   "display_name": "Python 3",
   "language": "python",
   "name": "python3"
  },
  "language_info": {
   "codemirror_mode": {
    "name": "ipython",
    "version": 3
   },
   "file_extension": ".py",
   "mimetype": "text/x-python",
   "name": "python",
   "nbconvert_exporter": "python",
   "pygments_lexer": "ipython3",
   "version": "3.12.7"
  }
 },
 "nbformat": 4,
 "nbformat_minor": 2
}
